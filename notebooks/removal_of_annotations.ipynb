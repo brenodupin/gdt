{
 "cells": [
  {
   "cell_type": "markdown",
   "id": "13e19525",
   "metadata": {},
   "source": [
    "### Imports and functions"
   ]
  },
  {
   "cell_type": "code",
   "execution_count": null,
   "id": "afb70915",
   "metadata": {},
   "outputs": [],
   "source": [
    "import re\n",
    "from pathlib import Path\n",
    "\n",
    "import gdt\n",
    "\n",
    "RE_ID = re.compile(r\"ID=([^;]+)\")"
   ]
  },
  {
   "cell_type": "code",
   "execution_count": null,
   "id": "dd48de94",
   "metadata": {},
   "outputs": [],
   "source": [
    "gdict_path = \"/home/brenodupin/matheus/gdt/resources/gdicts/fungi_mit.gdict\"\n",
    "gff_path = \"/home/brenodupin/matheus/gdt/sandbox/update_gdicts/fungi_mit/AB568599.1/AB568599.1.gff3\"\n",
    "global_query_string = gdt.QS_GENE_TRNA_RRNA\n",
    "remove_orfs = True\n",
    "\n",
    "remove_uniques = True\n",
    "\n",
    "gdict_path = Path(gdict_path)\n",
    "gff_path = Path(gff_path)\n",
    "\n",
    "if not gff_path.is_file():\n",
    "    raise FileNotFoundError(f\"File not found: {gff_path}\")"
   ]
  },
  {
   "cell_type": "code",
   "execution_count": null,
   "id": "4f839216",
   "metadata": {},
   "outputs": [],
   "source": [
    "# feel free to change the logger settings\n",
    "# if you do not wish any logging, just set 'print_to_console' and 'save_to_file' to False\n",
    "# the 'log' object needs to exist for the rest of the notebook cells to work, even if as a dummy\n",
    "log_file = Path().resolve() / \"01_missing_gene_dict.log\"\n",
    "\n",
    "log = gdt.create_logger(\n",
    "    print_to_console=True,\n",
    "    console_level=\"DEBUG\",\n",
    "    save_to_file=False,\n",
    "    file_level=\"TRACE\",\n",
    "    log_file=log_file,\n",
    ")\n",
    "log.info(\"Running from notebook AN_missing_gene_dict.ipynb\")"
   ]
  },
  {
   "cell_type": "code",
   "execution_count": null,
   "id": "4e8e892f",
   "metadata": {},
   "outputs": [],
   "source": [
    "# Load the GDICT file\n",
    "gene_dict = gdt.read_gdict(gdict_path, lazy_info=False)\n",
    "log.info(f\"GeneDict loaded from {gdict_path.name}\")\n",
    "log.debug(f\"path: {gdict_path}\")\n",
    "\n",
    "log.info(\"Header:\")\n",
    "for x in gene_dict.header:\n",
    "    log.info(f\"\\t{x}\")\n",
    "\n",
    "log.info(\"GDT Info:\")\n",
    "gdt.log_info(log, gene_dict)"
   ]
  },
  {
   "cell_type": "code",
   "execution_count": null,
   "id": "5c1c2eb9",
   "metadata": {},
   "outputs": [],
   "source": [
    "df = gdt.load_gff3(\n",
    "    gff_path,\n",
    "    query_string=global_query_string,\n",
    "    usecols=(\"seqid\", \"type\", \"start\", \"end\", \"attributes\"),\n",
    ")\n",
    "df = gdt.filter_orfs(df) if remove_orfs else df\n",
    "\n",
    "seqid = df[\"seqid\"].unique()[0]\n",
    "\n",
    "df[\"gene_id\"] = df[\"attributes\"].str.extract(RE_ID, expand=False)\n",
    "df[\"label\"] = df[\"gene_id\"].map(\n",
    "    lambda x: gene_dict.get(x).label if x in gene_dict else \"NOT_FOUND\"\n",
    ")\n",
    "df[\"unique\"] = df[\"gene_id\"].str.contains(seqid, na=False)\n",
    "\n",
    "keys_to_remove = df[df[\"unique\"]][\"gene_id\"].to_list()\n",
    "\n",
    "log.info(f\"Number of features in GFF3: {len(df)}\")"
   ]
  },
  {
   "cell_type": "code",
   "execution_count": null,
   "id": "f2d99518",
   "metadata": {},
   "outputs": [],
   "source": [
    "if remove_uniques:\n",
    "    log.info(f\"Number of unique features to remove: {len(keys_to_remove)}\")\n",
    "    for key in keys_to_remove:\n",
    "        gene_dict.pop(key, None)\n",
    "\n",
    "    new_path = gdict_path.parent / f\"{gdict_path.stem}_removed_uniques.gdict\"\n",
    "    gene_dict.header.append(\n",
    "        f\"{gdt.time_now()} - {len(keys_to_remove)} unique features removed from {gff_path.name}\"\n",
    "    )\n",
    "    gene_dict.to_gdict(new_path, overwrite=True)\n",
    "    log.info(f\"{new_path.name} was created in the same directory as the original gdict\")\n",
    "    log.info(\"You must now change 'gdict_path' to point to the new gdict file\")\n",
    "\n",
    "    # this is a safeguard that will work only if the notebook is not restarted\n",
    "    # the user must change the gdict_path variable manually if the notebook is restarted\n",
    "    gdict_path = new_path"
   ]
  },
  {
   "cell_type": "code",
   "execution_count": null,
   "id": "fbfeef29",
   "metadata": {},
   "outputs": [],
   "source": [
    "rest_of_keys = df[~df[\"unique\"]] if remove_uniques else df\n",
    "rest_of_keys = rest_of_keys[[\"gene_id\", \"label\"]]\n",
    "\n",
    "log.info(f\"Number of features that's need checking: {len(rest_of_keys)}\")\n",
    "with open(Path().resolve() / \"keys_to_check.txt\", \"w\") as f:\n",
    "    for _, gene_id, label in rest_of_keys.itertuples():\n",
    "        f.write(f\"{gene_id} #label {label}\\n\")"
   ]
  },
  {
   "cell_type": "markdown",
   "id": "33b8eef8",
   "metadata": {},
   "source": [
    "## Keys to remove from GeneDict"
   ]
  },
  {
   "cell_type": "code",
   "execution_count": null,
   "id": "8fc784bb",
   "metadata": {},
   "outputs": [],
   "source": [
    "file_path = Path().resolve() / \"keys_to_remove.txt\"\n",
    "if not file_path.is_file():\n",
    "    raise FileNotFoundError(f\"File not found: {file_path}\")\n",
    "\n",
    "remove_keys = set()\n",
    "with open(file_path, \"r\") as f:\n",
    "    for line in f:\n",
    "        key = line.strip()\n",
    "        if key:\n",
    "            clean_key = key.split(\"\\t\")[0].strip()  # take what's before the tab\n",
    "            remove_keys.add(clean_key)"
   ]
  },
  {
   "cell_type": "code",
   "execution_count": null,
   "id": "27656ae2",
   "metadata": {},
   "outputs": [],
   "source": [
    "log.info(f\"Number of features to remove: {len(remove_keys)}\")\n",
    "for key in remove_keys:\n",
    "    gene_dict.pop(key, None)\n",
    "\n",
    "new_path = gdict_path.parent / f\"{gdict_path.stem}_removed_manual.gdict\"\n",
    "gene_dict.header.append(\n",
    "    f\"{gdt.time_now()} - {len(keys_to_remove)} unique features removed from {gff_path.name}\"\n",
    ")\n",
    "gene_dict.to_gdict(new_path, overwrite=True)\n",
    "log.info(f\"{new_path.name} was created in the same directory as the original gdict\")"
   ]
  }
 ],
 "metadata": {
  "kernelspec": {
   "display_name": "base",
   "language": "python",
   "name": "python3"
  },
  "language_info": {
   "codemirror_mode": {
    "name": "ipython",
    "version": 3
   },
   "file_extension": ".py",
   "mimetype": "text/x-python",
   "name": "python",
   "nbconvert_exporter": "python",
   "pygments_lexer": "ipython3",
   "version": "3.12.11"
  }
 },
 "nbformat": 4,
 "nbformat_minor": 5
}

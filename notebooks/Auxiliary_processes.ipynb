{
 "cells": [
  {
   "cell_type": "markdown",
   "id": "0e24800c",
   "metadata": {},
   "source": [
    "# Removal of an GFF's file annotations from a GeneDict"
   ]
  },
  {
   "cell_type": "markdown",
   "id": "13e19525",
   "metadata": {},
   "source": [
    "### Imports and functions"
   ]
  },
  {
   "cell_type": "code",
   "execution_count": null,
   "id": "afb70915",
   "metadata": {},
   "outputs": [],
   "source": [
    "import re\n",
    "from pathlib import Path\n",
    "\n",
    "import gdt\n",
    "\n",
    "RE_ID = re.compile(r\"ID=([^;]+)\")"
   ]
  },
  {
   "cell_type": "markdown",
   "id": "7c9a27a2",
   "metadata": {},
   "source": [
    "### Setup"
   ]
  },
  {
   "cell_type": "markdown",
   "id": "2373b3e5",
   "metadata": {},
   "source": [
    "#### A."
   ]
  },
  {
   "cell_type": "code",
   "execution_count": null,
   "id": "dd48de94",
   "metadata": {},
   "outputs": [],
   "source": [
    "# Change all the variables below as needed\n",
    "# gdict_path: path to the gdict file to be updated\n",
    "# gff_path: path to the GFF3 file from which to gather gene IDs\n",
    "# global_query_string: query string to be used when reading the GFF3 file (it should be same used to create the gdict)\n",
    "# remove_orfs: if True, ORFs will not be considered when gathering gene IDs from the GFF3 file\n",
    "# remove_uniques: if True, only gene IDs that we are **sure** only this file uses will be removed from the gdict,\n",
    "#                 the other will require manual curation.\n",
    "#                 If False, all gene IDs found in the GFF3 file need to be check manually.\n",
    "\n",
    "gdict_path = \"/home/brenodupin/matheus/gdt/resources/gdicts/fungi_mit.gdict\"\n",
    "gff_path = \"/home/brenodupin/matheus/gdt/sandbox/update_gdicts/fungi_mit/AB568599.1/AB568599.1.gff3\"\n",
    "global_query_string = gdt.QS_GENE_TRNA_RRNA\n",
    "remove_orfs = True\n",
    "remove_uniques = False\n",
    "\n",
    "gdict_path = Path(gdict_path)\n",
    "gff_path = Path(gff_path)\n",
    "\n",
    "if not gff_path.is_file():\n",
    "    raise FileNotFoundError(f\"File not found: {gff_path}\")\n",
    "\n",
    "BASE_PATH = Path().resolve()\n",
    "print(f\"Working directory: {BASE_PATH}\")"
   ]
  },
  {
   "cell_type": "markdown",
   "id": "4b8c1a10",
   "metadata": {},
   "source": [
    "#### B."
   ]
  },
  {
   "cell_type": "code",
   "execution_count": null,
   "id": "4f839216",
   "metadata": {},
   "outputs": [],
   "source": [
    "# feel free to change the logger settings as needed.\n",
    "# if you do not wish any logging, just set 'print_to_console' and 'save_to_file' to False,\n",
    "# the 'log' object needs to exist for the rest of the notebook cells to work, even if as a dummy\n",
    "log_file = BASE_PATH / \"01_missing_gene_dict.log\"\n",
    "\n",
    "log = gdt.create_logger(\n",
    "    print_to_console=True,\n",
    "    console_level=\"DEBUG\",\n",
    "    save_to_file=False,\n",
    "    file_level=\"TRACE\",\n",
    "    log_file=log_file,\n",
    ")\n",
    "log.info(\"Running from notebook AN_missing_gene_dict.ipynb\")"
   ]
  },
  {
   "cell_type": "markdown",
   "id": "7065e5d3",
   "metadata": {},
   "source": [
    "### Gathering gene IDs from the GFF file"
   ]
  },
  {
   "cell_type": "markdown",
   "id": "ad53ad63",
   "metadata": {},
   "source": [
    "#### A."
   ]
  },
  {
   "cell_type": "code",
   "execution_count": null,
   "id": "4e8e892f",
   "metadata": {},
   "outputs": [],
   "source": [
    "# Loading the GDICT file\n",
    "gene_dict = gdt.read_gdict(gdict_path, lazy_info=False)\n",
    "log.info(f\"GeneDict loaded from {gdict_path.name}\")\n",
    "log.debug(f\"path: {gdict_path}\")\n",
    "\n",
    "log.info(\"Header:\")\n",
    "for x in gene_dict.header:\n",
    "    log.info(f\"\\t{x}\")\n",
    "\n",
    "log.info(\"GDT Info:\")\n",
    "gdt.log_info(log, gene_dict)"
   ]
  },
  {
   "cell_type": "markdown",
   "id": "dd860a0c",
   "metadata": {},
   "source": [
    "#### B."
   ]
  },
  {
   "cell_type": "code",
   "execution_count": null,
   "id": "5c1c2eb9",
   "metadata": {},
   "outputs": [],
   "source": [
    "df = gdt.load_gff3(\n",
    "    gff_path,\n",
    "    query_string=global_query_string,\n",
    "    usecols=(\"seqid\", \"type\", \"start\", \"end\", \"attributes\"),\n",
    ")\n",
    "df = gdt.filter_orfs(df) if remove_orfs else df\n",
    "\n",
    "seqid = df[\"seqid\"].unique()[0]\n",
    "\n",
    "df[\"gene_id\"] = df[\"attributes\"].str.extract(RE_ID, expand=False)\n",
    "df[\"label\"] = df[\"gene_id\"].map(\n",
    "    lambda x: gene_dict.get(x).label if x in gene_dict else \"NOT_FOUND\"\n",
    ")\n",
    "df[\"unique\"] = df[\"gene_id\"].str.contains(seqid, na=False)\n",
    "\n",
    "keys_to_remove = df[df[\"unique\"]][\"gene_id\"].to_list()\n",
    "\n",
    "log.info(f\"Number of features in GFF3: {len(df)}\")"
   ]
  },
  {
   "cell_type": "markdown",
   "id": "3a9ff477",
   "metadata": {},
   "source": [
    "#### C."
   ]
  },
  {
   "cell_type": "code",
   "execution_count": null,
   "id": "f2d99518",
   "metadata": {},
   "outputs": [],
   "source": [
    "if remove_uniques:\n",
    "    log.info(f\"Number of unique features to remove: {len(keys_to_remove)}\")\n",
    "    for key in keys_to_remove:\n",
    "        gene_dict.pop(key, None)\n",
    "\n",
    "    new_path = gdict_path.parent / f\"{gdict_path.stem}_removed_uniques.gdict\"\n",
    "    gene_dict.header.append(\n",
    "        f\"{gdt.time_now()} - {len(keys_to_remove)} unique features from {gff_path.name} removed.\"\n",
    "    )\n",
    "    gene_dict.to_gdict(new_path, overwrite=True)\n",
    "    log.info(f\"{new_path.name} was created in the same directory as the original gdict\")\n",
    "    log.info(\"You must now change 'gdict_path' to point to the new gdict file\")\n",
    "\n",
    "    # this is a safeguard that will work only if the notebook is not restarted between this cell and the next one,\n",
    "    # the user must change the gdict_path variable manually if the notebook is restarted\n",
    "    gdict_path = new_path"
   ]
  },
  {
   "cell_type": "markdown",
   "id": "faea16e1",
   "metadata": {},
   "source": [
    "#### D."
   ]
  },
  {
   "cell_type": "code",
   "execution_count": null,
   "id": "fbfeef29",
   "metadata": {},
   "outputs": [],
   "source": [
    "rest_of_keys = df[~df[\"unique\"]] if remove_uniques else df\n",
    "rest_of_keys = rest_of_keys[[\"gene_id\", \"label\"]]\n",
    "\n",
    "log.info(f\"Number of features that's need checking: {len(rest_of_keys)}\")\n",
    "with open(BASE_PATH / \"keys_to_check.txt\", \"w\") as f:\n",
    "    for _, gene_id, label in rest_of_keys.itertuples():\n",
    "        f.write(f\"{gene_id} #label {label}\\n\")"
   ]
  },
  {
   "cell_type": "markdown",
   "id": "e33cab98",
   "metadata": {},
   "source": [
    "### Manual curation of `keys_to_check.txt`\n",
    "At this point, you need to manually review the `keys_to_check.txt` file to identify which keys should be removed from the GeneDict. The goal is to remove only the keys that are **unique to this specific GFF file** and not shared with other GFF files.\n",
    "\n",
    "How to identify keys to remove:\n",
    "\n",
    " - Keep keys with standard gene/trna/rrna names: Keys like `gene-nad2`, `gene-tRNA-Trp`, `gene-rrn18` should generally be kept because they represent standard gene nomenclature that might be used across multiple GFF files.\n",
    " - Remove keys with file-specific identifiers: Keys containing the sequence ID (like `AB568599.1`) or unique identifiers (like `A8G35_gp044`, `P416_r02`) should be removed as they are specific to this file only.\n",
    "\n",
    "The curated list of keys to be removed should be saved intoa new file `keys_to_check.txt`, in the same directory as this notebook."
   ]
  },
  {
   "cell_type": "markdown",
   "id": "33b8eef8",
   "metadata": {},
   "source": [
    "### Keys to remove from GeneDict"
   ]
  },
  {
   "cell_type": "markdown",
   "id": "a0510207",
   "metadata": {},
   "source": [
    "#### A."
   ]
  },
  {
   "cell_type": "code",
   "execution_count": null,
   "id": "8fc784bb",
   "metadata": {},
   "outputs": [],
   "source": [
    "file_path = BASE_PATH / \"keys_to_remove.txt\"\n",
    "if not file_path.is_file():\n",
    "    raise FileNotFoundError(f\"File not found: {file_path}\")\n",
    "\n",
    "remove_keys = set()\n",
    "with open(file_path, \"r\") as f:\n",
    "    for line in f:\n",
    "        key = line.strip()\n",
    "        if key:\n",
    "            clean_key = key.split(\"#label\")[0].strip()  # take what's before #label\n",
    "            remove_keys.add(clean_key)"
   ]
  },
  {
   "cell_type": "markdown",
   "id": "861abc51",
   "metadata": {},
   "source": [
    "#### B."
   ]
  },
  {
   "cell_type": "code",
   "execution_count": null,
   "id": "27656ae2",
   "metadata": {},
   "outputs": [],
   "source": [
    "log.info(f\"Number of features to remove: {len(remove_keys)}\")\n",
    "for key in remove_keys:\n",
    "    gene_dict.pop(key, None)\n",
    "\n",
    "new_path = gdict_path.parent / f\"{gdict_path.stem}_removed_manual.gdict\"\n",
    "gene_dict.header.append(\n",
    "    f\"{gdt.time_now()} - {len(keys_to_remove)} curated features from {gff_path.name} removed.\"\n",
    ")\n",
    "gene_dict.to_gdict(new_path, overwrite=True)\n",
    "log.info(f\"{new_path.name} was created in the same directory as the original gdict\")"
   ]
  },
  {
   "cell_type": "markdown",
   "id": "4b0f4696",
   "metadata": {},
   "source": [
    "# Checking conflicts in DbxrefGeneID annotations using 'gff_gene' vs 'ncbi_desc'"
   ]
  },
  {
   "cell_type": "markdown",
   "id": "2ede18ab",
   "metadata": {},
   "source": [
    "### Imports and functions"
   ]
  },
  {
   "cell_type": "code",
   "execution_count": null,
   "id": "71bd1807",
   "metadata": {},
   "outputs": [],
   "source": [
    "from pathlib import Path\n",
    "\n",
    "import gdt\n",
    "\n",
    "base = Path(\"../resources/gdicts\").resolve()\n",
    "base"
   ]
  },
  {
   "cell_type": "code",
   "execution_count": null,
   "id": "2b090728",
   "metadata": {},
   "outputs": [],
   "source": [
    "gdict_path = \"\"\n",
    "\n",
    "gdict_path = Path(gdict_path).resolve()\n",
    "\n",
    "if not gdict_path.is_file():\n",
    "    raise FileNotFoundError(f\"File not found: {gdict_path}\")"
   ]
  },
  {
   "cell_type": "code",
   "execution_count": null,
   "id": "50721b99",
   "metadata": {},
   "outputs": [],
   "source": [
    "gdict = gdt.read_gdict(gdict_path, lazy_info=False)\n",
    "\n",
    "total = 0\n",
    "conflicts = 0\n",
    "missing_label_gff3 = 0\n",
    "missing_label_ncbi = 0\n",
    "\n",
    "for key in gdict.keys():\n",
    "    entry = gdict[key]\n",
    "    if isinstance(entry, gdt.DbxrefGeneID):\n",
    "        if \"gff_gene:\" in entry.c and \"ncbi_desc:\" in entry.c:\n",
    "\n",
    "            gff3_gene = entry.c.split(\"gff_gene:\", 1)[1].split(\" |\")[0].strip()\n",
    "            ncbi_desc = entry.c.split(\"ncbi_desc:\", 1)[1].strip()\n",
    "\n",
    "            gff3_label = gdict.get(gff3_gene).label if gff3_gene in gdict else \"not_found\"\n",
    "            ncbi_label = gdict.get(ncbi_desc).label if ncbi_desc in gdict else \"not_found\"\n",
    "\n",
    "            if gff3_label != \"not_found\" and ncbi_label != \"not_found\":\n",
    "                total += 1\n",
    "            else:\n",
    "                if gff3_label == \"not_found\":\n",
    "                    missing_label_gff3 += 1\n",
    "                if ncbi_label == \"not_found\":\n",
    "                    missing_label_ncbi += 1\n",
    "                continue\n",
    "\n",
    "            if ncbi_label != gff3_label:\n",
    "                conflicts += 1\n",
    "                # print(f\"{key} -> gff_gene: [{gff_gene}] ncbi_desc: [{ncbi_desc}]\")\n",
    "                # print(f\"  CONFLICT: label: {entry.label}  gff_label: {gff_label} | ncbi_label: {ncbi_label}\")\n",
    "\n",
    "print(f\"Total with both gff and ncbi: {total}\")\n",
    "if total == 0:\n",
    "    print(\"  No entries with both gff_gene and ncbi_desc found.\")\n",
    "else:\n",
    "    print(f\"Conflicts: {conflicts} ({conflicts/total:.2%})\")\n",
    "    print(f\"gff3_gene missing label: {missing_label_gff3}\")\n",
    "    print(f\"ncbi_desc missing label: {missing_label_ncbi}\")"
   ]
  }
 ],
 "metadata": {
  "kernelspec": {
   "display_name": "base",
   "language": "python",
   "name": "python3"
  },
  "language_info": {
   "codemirror_mode": {
    "name": "ipython",
    "version": 3
   },
   "file_extension": ".py",
   "mimetype": "text/x-python",
   "name": "python",
   "nbconvert_exporter": "python",
   "pygments_lexer": "ipython3",
   "version": "3.10.16"
  }
 },
 "nbformat": 4,
 "nbformat_minor": 5
}

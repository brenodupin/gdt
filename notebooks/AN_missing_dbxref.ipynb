{
 "cells": [
  {
   "cell_type": "code",
   "execution_count": 8,
   "id": "9664aa2a",
   "metadata": {},
   "outputs": [],
   "source": [
    "import pandas as pd\n",
    "import numpy as np\n",
    "import os\n",
    "import re\n",
    "\n",
    "from pathlib import Path\n",
    "import gdt\n",
    "\n",
    "from Bio import Entrez"
   ]
  },
  {
   "cell_type": "code",
   "execution_count": 9,
   "id": "d05f8d1f",
   "metadata": {},
   "outputs": [],
   "source": [
    "nth_iteration = 1"
   ]
  },
  {
   "cell_type": "code",
   "execution_count": 10,
   "id": "0fff3a64",
   "metadata": {},
   "outputs": [],
   "source": [
    "# Defines all the global variables used in the script.\n",
    "# Change these variables to match your local setup.\n",
    "# The most_recent_gdt_file variable should be set to the path of the most recent GDT file,\n",
    "# OR the stripped GDT file used in filter command, if applicable.\n",
    "\n",
    "DATA_DIR = \"../test/Test_group16\"\n",
    "AN_missing_dbxref = \"../test/Test_group16/AN_missing_dbxref\"\n",
    "#most_recent_gdt_file = \"../test/Test_group16/Test_group16.gdt\"\n",
    "remove_orfs = True\n",
    "organelle_type = \"MT\"\n",
    "gff_suffix = \".gff3\"\n",
    "\n",
    "Entrez.email = 'dupin@alunos.utfpr.edu.br'\n",
    "Entrez.api_key = 'b3abc1ac7ae9ac035af84ec1abf895878d09'"
   ]
  },
  {
   "cell_type": "code",
   "execution_count": 11,
   "id": "ca23d576",
   "metadata": {},
   "outputs": [],
   "source": [
    "most_recent_gdt_file = \"\""
   ]
  },
  {
   "cell_type": "code",
   "execution_count": 12,
   "id": "b37b27fd",
   "metadata": {},
   "outputs": [
    {
     "name": "stdout",
     "output_type": "stream",
     "text": [
      "If you set up a stripped GDT file, please set the path to it in the most_recent_gdt_file variable.\n",
      "Otherwise, ignore this message.\n"
     ]
    }
   ],
   "source": [
    "# Check if all variables exist\n",
    "DATA_DIR = Path(DATA_DIR).resolve()\n",
    "AN_missing_dbxref = Path(AN_missing_dbxref).resolve()\n",
    "\n",
    "if not DATA_DIR.exists() and not DATA_DIR.is_dir():\n",
    "    raise FileNotFoundError(f\"Data directory {DATA_DIR} does not exist or is not a directory.\")\n",
    "\n",
    "if not AN_missing_dbxref.exists() and not AN_missing_dbxref.is_file():\n",
    "    raise FileNotFoundError(f\"AN missing dbxref {AN_missing_dbxref} does not exist or is not a file.\")\n",
    "\n",
    "if not most_recent_gdt_file:\n",
    "    if nth_iteration > 1:\n",
    "        raise FileNotFoundError(f\"Most recent GDT file {most_recent_gdt_file} does not exist or is not a file.\")\n",
    "    else:\n",
    "        print(f\"If you set up a stripped GDT file, please set the path to it in the most_recent_gdt_file variable.\")\n",
    "        print(f\"Otherwise, ignore this message.\")\n",
    "else:\n",
    "    most_recent_gdt_file = Path(most_recent_gdt_file).resolve()\n",
    "    if not most_recent_gdt_file.exists() and not most_recent_gdt_file.is_file():\n",
    "        raise FileNotFoundError(f\"Most recent GDT file {most_recent_gdt_file} does not exist or is not a file.\")"
   ]
  },
  {
   "cell_type": "code",
   "execution_count": 13,
   "id": "0ddbed68",
   "metadata": {},
   "outputs": [
    {
     "name": "stderr",
     "output_type": "stream",
     "text": [
      "2025-05-08 15:57:30,197 - DEBUG - Logger setup complete. Logging to /home/brenodupin/matheus/gdt/test/Test_group16/0_test_2.log\n",
      "2025-05-08 15:57:30,198 - DEBUG - Running from notebook AN_missing_dbxref\n"
     ]
    }
   ],
   "source": [
    "_, logger = gdt.logger_setup.logger_creater(log_file=DATA_DIR / '0_test_2.log', console_level=\"DEBUG\", file_level=\"TRACE\")\n",
    "logger.debug(\"Running from notebook AN_missing_dbxref\")"
   ]
  },
  {
   "cell_type": "code",
   "execution_count": 15,
   "id": "15a53d8c",
   "metadata": {},
   "outputs": [
    {
     "name": "stdout",
     "output_type": "stream",
     "text": [
      "len(ANs): 118\n"
     ]
    }
   ],
   "source": [
    "with open(AN_missing_dbxref, \"r\") as f:\n",
    "    ANs = [line.strip() for line in f.readlines() if line.strip()]\n",
    "print(f\"len(ANs): {len(ANs)}\")"
   ]
  },
  {
   "cell_type": "code",
   "execution_count": 16,
   "id": "1ba5f282",
   "metadata": {},
   "outputs": [],
   "source": [
    "missing_dbxref_path = DATA_DIR / \"missing_dbxref\"\n",
    "missing_dbxref_path.mkdir(exist_ok=True)"
   ]
  },
  {
   "cell_type": "code",
   "execution_count": 17,
   "id": "f0f3d2d5",
   "metadata": {},
   "outputs": [],
   "source": [
    "# Load the GDT file\n",
    "if most_recent_gdt_file:\n",
    "    gene_dict = gdt.gene_dict.create_gene_dict(most_recent_gdt_file, max_an_sources=0)\n",
    "else:\n",
    "    gene_dict = {}\n",
    "\n",
    "temp_gene_dict = {}"
   ]
  },
  {
   "cell_type": "code",
   "execution_count": 20,
   "id": "11fbe452",
   "metadata": {},
   "outputs": [],
   "source": [
    "temp_list = []\n",
    "for AN in ANs:\n",
    "    an_path = DATA_DIR / f'{AN}{gff_suffix}'\n",
    "    if not an_path.exists():\n",
    "        logger.error(f'Error: {AN} does not exist (an_path: {an_path})')\n",
    "        continue\n",
    "    \n",
    "    df = gdt.gff3_utils.load_gff3(an_path, query_string='type == \"gene\"', usecols=['seqid', 'start', 'end', 'type', 'attributes'])\n",
    "    df = gdt.gff3_utils.filter_orfs(df) if remove_orfs else df\n",
    "\n",
    "    df['gene_id'] = df['attributes'].str.split(';').str[0].str.replace('ID=', '', regex=False)\n",
    "    df['in_gene_dict'] = df['gene_id'].isin(gene_dict)\n",
    "    df_missing = df[~df['in_gene_dict']].copy()\n",
    "\n",
    "    temp_list.extend(df_missing[['gene_id', 'seqid']].to_dict('records'))"
   ]
  },
  {
   "cell_type": "code",
   "execution_count": 21,
   "id": "c56ce2ed",
   "metadata": {},
   "outputs": [],
   "source": [
    "agg_dbxref = (pd.DataFrame(temp_list).groupby('gene_id')['seqid']\n",
    "                .agg(list)\n",
    "                .sort_index())  # Sort by gene_id"
   ]
  },
  {
   "cell_type": "code",
   "execution_count": 22,
   "id": "d80463db",
   "metadata": {},
   "outputs": [],
   "source": [
    "with open(missing_dbxref_path / 'dbxref_problems', 'w+') as f1:\n",
    "    for gene_id, seqid in agg_dbxref.items():\n",
    "        f1.write(f'{gene_id} || {\" \".join(seqid)}\\n')"
   ]
  }
 ],
 "metadata": {
  "kernelspec": {
   "display_name": "base",
   "language": "python",
   "name": "python3"
  },
  "language_info": {
   "codemirror_mode": {
    "name": "ipython",
    "version": 3
   },
   "file_extension": ".py",
   "mimetype": "text/x-python",
   "name": "python",
   "nbconvert_exporter": "python",
   "pygments_lexer": "ipython3",
   "version": "3.10.16"
  }
 },
 "nbformat": 4,
 "nbformat_minor": 5
}
